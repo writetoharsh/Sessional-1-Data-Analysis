{
 "cells": [
  {
   "cell_type": "code",
   "execution_count": 1,
   "metadata": {},
   "outputs": [],
   "source": [
    "import pickle as pk"
   ]
  },
  {
   "cell_type": "code",
   "execution_count": 2,
   "metadata": {},
   "outputs": [],
   "source": [
    "class Question():\n",
    "    ''''\n",
    "    This is question class which hold information about question paper. It gets its data either from user or from file named\n",
    "    \"qdata.pickle\". If data is user input then first qdetail will run and after that question_paper.\n",
    "    qdetail takes data like exam name, branch, subject code etc.\n",
    "    question_paper will take data like marks and other parameters for a given question.\n",
    "    ''' \n",
    "    def __init__(self):\n",
    "        self.database = {}  #it is used nowhere but used to avoid run time error in upload function if user gives wrong option\n",
    "    def qdetail(self):\n",
    "        try:\n",
    "            with open('qdata.pickle', 'rb') as file:\n",
    "                self.database = pk.load(file)\n",
    "        except:\n",
    "            option = input(\"\\nNo previous data found. Do you want to re-enter question paper detail(Y/N): \").lower()\n",
    "            if option[0] == 'y':\n",
    "                self.qdata = {}\n",
    "                while True:\n",
    "                    try:\n",
    "                        inst = 'SIKKIM MANIPAL INSTITUTE OF TECHNOLOGY'\n",
    "                        exam = input(\"Enter the exam name: \")\n",
    "                        branch = input(\"Enter the branch name: \")\n",
    "                        subject = input(\"Enter the subject: \")\n",
    "                        subcode = input(\"Enter the subject code: \") \n",
    "                        max_marks = int(input(\"Enter the max marks: \"))\n",
    "                        self.number_of_question = int(input(\"Enter the number of question: \"))\n",
    "                        self.qdata['qpaper'] ={'inst':inst,\n",
    "                                          'exam':exam,\n",
    "                                           'branch':branch,\n",
    "                                           'subject':subject,\n",
    "                                           'subcode':subcode,\n",
    "                                           'max_marks':max_marks,\n",
    "                                           'self.number_of_question':self.number_of_question}\n",
    "                    except:\n",
    "                            print(\"ERROR: There is some error. Please try again\")\n",
    "                            continue\n",
    "                    else:\n",
    "                            break\n",
    "                return self.qdata\n",
    "    def question_paper(self):\n",
    "        self.perqdata = {}\n",
    "        for i in range(self.number_of_question):\n",
    "            while True:\n",
    "                try:\n",
    "                    print(f\"\\nEntering data for question{i+1}\")\n",
    "                    marks = int(input(\"Enter the marks:\"))\n",
    "                    bl = sorted(list(map(int,input(\"Enter the BL: \").split(','))))\n",
    "                    pi = sorted(list(map(float,input(\"Enter the PI: \").split(','))))[0]\n",
    "                    co = sorted(list(map(int,input(\"Enter the CO: \").split(','))))\n",
    "                    pso = sorted(list(map(int,input(\"Enter the PSO: \").split(','))))\n",
    "                    po = sorted(list(map(int,input(\"Enter the PO: \").split(','))))\n",
    "                except:\n",
    "                    print(\"\\nERROR: Only integer values are allowed.\\n\")\n",
    "                    continue\n",
    "                else:\n",
    "                    self.perqdata['q'+str(i+1)]={'marks':marks,\n",
    "                                            'bl':bl,\n",
    "                                            'pi':pi,\n",
    "                                            'co':co,\n",
    "                                            'pso':pso,\n",
    "                                            'po':po}\n",
    "                    break"
   ]
  },
  {
   "cell_type": "code",
   "execution_count": 4,
   "metadata": {},
   "outputs": [],
   "source": [
    "def upload():\n",
    "    '''\n",
    "    This function will instantiate the Question class in ques and then check wheter there is new input or not.\n",
    "    if there is new input then rebuil 'qdata.pickle' file and store it.\n",
    "    '''\n",
    "    ques = Question()\n",
    "    qpdetail = ques.qdetail()\n",
    "    if qpdetail:\n",
    "        ques.question_paper()\n",
    "        database = {'question_paper':ques.qdata, 'question':ques.perqdata}\n",
    "        with open('qdata.pickle', 'wb') as file:\n",
    "            pk.dump(database, file)\n",
    "    else:\n",
    "        database = ques.database\n",
    "    return database\n",
    "database = upload()"
   ]
  },
  {
   "cell_type": "code",
   "execution_count": 5,
   "metadata": {},
   "outputs": [
    {
     "data": {
      "text/plain": [
       "{'question_paper': {'qpaper': {'inst': 'SIKKIM MANIPAL INSTITUTE OF TECHNOLOGY',\n",
       "   'exam': 'sessional 1',\n",
       "   'branch': 'ece',\n",
       "   'subject': 'math',\n",
       "   'subcode': 'ma1304',\n",
       "   'max_marks': 50,\n",
       "   'self.number_of_question': 1}},\n",
       " 'question': {'q1': {'marks': 1,\n",
       "   'bl': [1],\n",
       "   'pi': 1.0,\n",
       "   'co': [1],\n",
       "   'pso': [1],\n",
       "   'po': [1]}}}"
      ]
     },
     "execution_count": 5,
     "metadata": {},
     "output_type": "execute_result"
    }
   ],
   "source": [
    "database"
   ]
  }
 ],
 "metadata": {
  "kernelspec": {
   "display_name": "Python 3",
   "language": "python",
   "name": "python3"
  },
  "language_info": {
   "codemirror_mode": {
    "name": "ipython",
    "version": 3
   },
   "file_extension": ".py",
   "mimetype": "text/x-python",
   "name": "python",
   "nbconvert_exporter": "python",
   "pygments_lexer": "ipython3",
   "version": "3.7.1"
  }
 },
 "nbformat": 4,
 "nbformat_minor": 2
}
